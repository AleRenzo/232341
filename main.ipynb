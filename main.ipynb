{
  "cells": [
    {
      "cell_type": "markdown",
      "metadata": {
        "id": "Fg2A-jkd52-g"
      },
      "source": [
        "*As a member of the data science team at a prestigious fast fashion firm, our job is to help increase revenues through all possible (legal) means. The online platform is going strong. However, we would like to improve the recommender system on your platform. Our plan is to test different recommendation systems and pick the most suitable one.*"
      ]
    },
    {
      "cell_type": "markdown",
      "metadata": {
        "id": "wEe-hkor6Imc"
      },
      "source": [
        "### **Loading the modules**"
      ]
    },
    {
      "cell_type": "code",
      "execution_count": 1,
      "metadata": {
        "id": "YYVXzFkT6LDy"
      },
      "outputs": [],
      "source": [
        "import pandas as pd\n",
        "import numpy as np\n",
        "import seaborn as sns\n",
        "import matplotlib.pyplot as plt\n",
        "\n",
        "import warnings\n",
        "warnings.filterwarnings('ignore')"
      ]
    },
    {
      "cell_type": "markdown",
      "metadata": {
        "id": "rM0ZJztJ6Lhz"
      },
      "source": [
        "#### **Loading the three csv files with pandas**"
      ]
    },
    {
      "cell_type": "code",
      "execution_count": 2,
      "metadata": {
        "id": "ACqJt6bV53Dt"
      },
      "outputs": [],
      "source": [
        "# loading users metadata\n",
        "customers_df = pd.read_csv(\"recsys_customers.csv\")\n",
        "\n",
        "# loading training data\n",
        "transactions_df = pd.read_csv(\"recsys_transactions.csv\")\n",
        "\n",
        "# loading articles metadata\n",
        "articles_df = pd.read_csv(\"recsys_articles.csv\")"
      ]
    },
    {
      "attachments": {},
      "cell_type": "markdown",
      "metadata": {},
      "source": [
        "###### **Removing NaN values**"
      ]
    },
    {
      "cell_type": "code",
      "execution_count": 3,
      "metadata": {},
      "outputs": [],
      "source": [
        "customers_df = customers_df.fillna(0)\n",
        "\n",
        "transactions_df = transactions_df.fillna(0)\n",
        "\n",
        "articles_df = articles_df.fillna(0)"
      ]
    },
    {
      "cell_type": "markdown",
      "metadata": {
        "id": "ctjNNCSo53In"
      },
      "source": [
        "##### **Combining the three csv files into one using common columns**"
      ]
    },
    {
      "cell_type": "code",
      "execution_count": 4,
      "metadata": {
        "id": "nyI9ps2U53NV"
      },
      "outputs": [],
      "source": [
        "# joining customers and transactions on customer id\n",
        "merged_df = pd.merge(customers_df, transactions_df, on = 'customer_id')"
      ]
    },
    {
      "cell_type": "code",
      "execution_count": 5,
      "metadata": {
        "id": "7nhDJ0177zHl"
      },
      "outputs": [],
      "source": [
        "# joining the merged data frame and articles on article id\n",
        "final_df = pd.merge(merged_df, articles_df, on = 'article_id')"
      ]
    },
    {
      "cell_type": "markdown",
      "metadata": {
        "id": "6mNf1zAL53S0"
      },
      "source": [
        "### **Explantory Data Analysis - (EDA)**"
      ]
    },
    {
      "cell_type": "markdown",
      "metadata": {
        "id": "jim-uJRk-DXw"
      },
      "source": [
        "##### **Looking at the first and last 5 rows of the dataset**"
      ]
    },
    {
      "cell_type": "code",
      "execution_count": 6,
      "metadata": {
        "colab": {
          "base_uri": "https://localhost:8080/",
          "height": 560
        },
        "id": "Yb5m6c3z53YN",
        "outputId": "ff18698d-cfac-4c82-f601-49f646e2e948"
      },
      "outputs": [
        {
          "data": {
            "text/html": [
              "<div>\n",
              "<style scoped>\n",
              "    .dataframe tbody tr th:only-of-type {\n",
              "        vertical-align: middle;\n",
              "    }\n",
              "\n",
              "    .dataframe tbody tr th {\n",
              "        vertical-align: top;\n",
              "    }\n",
              "\n",
              "    .dataframe thead th {\n",
              "        text-align: right;\n",
              "    }\n",
              "</style>\n",
              "<table border=\"1\" class=\"dataframe\">\n",
              "  <thead>\n",
              "    <tr style=\"text-align: right;\">\n",
              "      <th></th>\n",
              "      <th>customer_id</th>\n",
              "      <th>fashion_news</th>\n",
              "      <th>club_member</th>\n",
              "      <th>age</th>\n",
              "      <th>t_dat</th>\n",
              "      <th>article_id</th>\n",
              "      <th>prod_name</th>\n",
              "      <th>product_type</th>\n",
              "      <th>product_type_name</th>\n",
              "      <th>product_group_name</th>\n",
              "      <th>...</th>\n",
              "      <th>department</th>\n",
              "      <th>department_name</th>\n",
              "      <th>index</th>\n",
              "      <th>index_name</th>\n",
              "      <th>index_group</th>\n",
              "      <th>index_group_name</th>\n",
              "      <th>section</th>\n",
              "      <th>section_name</th>\n",
              "      <th>garment_group</th>\n",
              "      <th>garment_group_name</th>\n",
              "    </tr>\n",
              "  </thead>\n",
              "  <tbody>\n",
              "    <tr>\n",
              "      <th>0</th>\n",
              "      <td>0</td>\n",
              "      <td>1</td>\n",
              "      <td>1</td>\n",
              "      <td>44.0</td>\n",
              "      <td>2020-09-05</td>\n",
              "      <td>463</td>\n",
              "      <td>Beverly HW Loose Mom Fit Dnm</td>\n",
              "      <td>272</td>\n",
              "      <td>Trousers</td>\n",
              "      <td>Garment Lower body</td>\n",
              "      <td>...</td>\n",
              "      <td>1747</td>\n",
              "      <td>Trousers</td>\n",
              "      <td>D</td>\n",
              "      <td>Divided</td>\n",
              "      <td>2</td>\n",
              "      <td>Divided</td>\n",
              "      <td>53</td>\n",
              "      <td>Divided Collection</td>\n",
              "      <td>1009</td>\n",
              "      <td>Trousers</td>\n",
              "    </tr>\n",
              "    <tr>\n",
              "      <th>1</th>\n",
              "      <td>70</td>\n",
              "      <td>0</td>\n",
              "      <td>0</td>\n",
              "      <td>27.0</td>\n",
              "      <td>2020-09-06</td>\n",
              "      <td>463</td>\n",
              "      <td>Beverly HW Loose Mom Fit Dnm</td>\n",
              "      <td>272</td>\n",
              "      <td>Trousers</td>\n",
              "      <td>Garment Lower body</td>\n",
              "      <td>...</td>\n",
              "      <td>1747</td>\n",
              "      <td>Trousers</td>\n",
              "      <td>D</td>\n",
              "      <td>Divided</td>\n",
              "      <td>2</td>\n",
              "      <td>Divided</td>\n",
              "      <td>53</td>\n",
              "      <td>Divided Collection</td>\n",
              "      <td>1009</td>\n",
              "      <td>Trousers</td>\n",
              "    </tr>\n",
              "    <tr>\n",
              "      <th>2</th>\n",
              "      <td>75</td>\n",
              "      <td>1</td>\n",
              "      <td>1</td>\n",
              "      <td>21.0</td>\n",
              "      <td>2020-09-18</td>\n",
              "      <td>463</td>\n",
              "      <td>Beverly HW Loose Mom Fit Dnm</td>\n",
              "      <td>272</td>\n",
              "      <td>Trousers</td>\n",
              "      <td>Garment Lower body</td>\n",
              "      <td>...</td>\n",
              "      <td>1747</td>\n",
              "      <td>Trousers</td>\n",
              "      <td>D</td>\n",
              "      <td>Divided</td>\n",
              "      <td>2</td>\n",
              "      <td>Divided</td>\n",
              "      <td>53</td>\n",
              "      <td>Divided Collection</td>\n",
              "      <td>1009</td>\n",
              "      <td>Trousers</td>\n",
              "    </tr>\n",
              "    <tr>\n",
              "      <th>3</th>\n",
              "      <td>82</td>\n",
              "      <td>0</td>\n",
              "      <td>0</td>\n",
              "      <td>18.0</td>\n",
              "      <td>2020-09-13</td>\n",
              "      <td>463</td>\n",
              "      <td>Beverly HW Loose Mom Fit Dnm</td>\n",
              "      <td>272</td>\n",
              "      <td>Trousers</td>\n",
              "      <td>Garment Lower body</td>\n",
              "      <td>...</td>\n",
              "      <td>1747</td>\n",
              "      <td>Trousers</td>\n",
              "      <td>D</td>\n",
              "      <td>Divided</td>\n",
              "      <td>2</td>\n",
              "      <td>Divided</td>\n",
              "      <td>53</td>\n",
              "      <td>Divided Collection</td>\n",
              "      <td>1009</td>\n",
              "      <td>Trousers</td>\n",
              "    </tr>\n",
              "    <tr>\n",
              "      <th>4</th>\n",
              "      <td>111</td>\n",
              "      <td>0</td>\n",
              "      <td>0</td>\n",
              "      <td>33.0</td>\n",
              "      <td>2020-09-06</td>\n",
              "      <td>463</td>\n",
              "      <td>Beverly HW Loose Mom Fit Dnm</td>\n",
              "      <td>272</td>\n",
              "      <td>Trousers</td>\n",
              "      <td>Garment Lower body</td>\n",
              "      <td>...</td>\n",
              "      <td>1747</td>\n",
              "      <td>Trousers</td>\n",
              "      <td>D</td>\n",
              "      <td>Divided</td>\n",
              "      <td>2</td>\n",
              "      <td>Divided</td>\n",
              "      <td>53</td>\n",
              "      <td>Divided Collection</td>\n",
              "      <td>1009</td>\n",
              "      <td>Trousers</td>\n",
              "    </tr>\n",
              "  </tbody>\n",
              "</table>\n",
              "<p>5 rows × 26 columns</p>\n",
              "</div>"
            ],
            "text/plain": [
              "   customer_id  fashion_news  club_member   age       t_dat  article_id  \\\n",
              "0            0             1            1  44.0  2020-09-05         463   \n",
              "1           70             0            0  27.0  2020-09-06         463   \n",
              "2           75             1            1  21.0  2020-09-18         463   \n",
              "3           82             0            0  18.0  2020-09-13         463   \n",
              "4          111             0            0  33.0  2020-09-06         463   \n",
              "\n",
              "                      prod_name  product_type product_type_name  \\\n",
              "0  Beverly HW Loose Mom Fit Dnm           272          Trousers   \n",
              "1  Beverly HW Loose Mom Fit Dnm           272          Trousers   \n",
              "2  Beverly HW Loose Mom Fit Dnm           272          Trousers   \n",
              "3  Beverly HW Loose Mom Fit Dnm           272          Trousers   \n",
              "4  Beverly HW Loose Mom Fit Dnm           272          Trousers   \n",
              "\n",
              "   product_group_name  ...  department department_name  index index_name  \\\n",
              "0  Garment Lower body  ...        1747        Trousers      D    Divided   \n",
              "1  Garment Lower body  ...        1747        Trousers      D    Divided   \n",
              "2  Garment Lower body  ...        1747        Trousers      D    Divided   \n",
              "3  Garment Lower body  ...        1747        Trousers      D    Divided   \n",
              "4  Garment Lower body  ...        1747        Trousers      D    Divided   \n",
              "\n",
              "   index_group index_group_name  section        section_name garment_group  \\\n",
              "0            2          Divided       53  Divided Collection          1009   \n",
              "1            2          Divided       53  Divided Collection          1009   \n",
              "2            2          Divided       53  Divided Collection          1009   \n",
              "3            2          Divided       53  Divided Collection          1009   \n",
              "4            2          Divided       53  Divided Collection          1009   \n",
              "\n",
              "  garment_group_name  \n",
              "0           Trousers  \n",
              "1           Trousers  \n",
              "2           Trousers  \n",
              "3           Trousers  \n",
              "4           Trousers  \n",
              "\n",
              "[5 rows x 26 columns]"
            ]
          },
          "execution_count": 6,
          "metadata": {},
          "output_type": "execute_result"
        }
      ],
      "source": [
        "final_df.head()"
      ]
    },
    {
      "cell_type": "code",
      "execution_count": 7,
      "metadata": {
        "colab": {
          "base_uri": "https://localhost:8080/",
          "height": 473
        },
        "id": "qIU2HFnB-MRs",
        "outputId": "a0ee5cb8-ee2c-42e1-a6ec-8d343b15fa33"
      },
      "outputs": [
        {
          "data": {
            "text/html": [
              "<div>\n",
              "<style scoped>\n",
              "    .dataframe tbody tr th:only-of-type {\n",
              "        vertical-align: middle;\n",
              "    }\n",
              "\n",
              "    .dataframe tbody tr th {\n",
              "        vertical-align: top;\n",
              "    }\n",
              "\n",
              "    .dataframe thead th {\n",
              "        text-align: right;\n",
              "    }\n",
              "</style>\n",
              "<table border=\"1\" class=\"dataframe\">\n",
              "  <thead>\n",
              "    <tr style=\"text-align: right;\">\n",
              "      <th></th>\n",
              "      <th>customer_id</th>\n",
              "      <th>fashion_news</th>\n",
              "      <th>club_member</th>\n",
              "      <th>age</th>\n",
              "      <th>t_dat</th>\n",
              "      <th>article_id</th>\n",
              "      <th>prod_name</th>\n",
              "      <th>product_type</th>\n",
              "      <th>product_type_name</th>\n",
              "      <th>product_group_name</th>\n",
              "      <th>...</th>\n",
              "      <th>department</th>\n",
              "      <th>department_name</th>\n",
              "      <th>index</th>\n",
              "      <th>index_name</th>\n",
              "      <th>index_group</th>\n",
              "      <th>index_group_name</th>\n",
              "      <th>section</th>\n",
              "      <th>section_name</th>\n",
              "      <th>garment_group</th>\n",
              "      <th>garment_group_name</th>\n",
              "    </tr>\n",
              "  </thead>\n",
              "  <tbody>\n",
              "    <tr>\n",
              "      <th>369108</th>\n",
              "      <td>30652</td>\n",
              "      <td>0</td>\n",
              "      <td>0</td>\n",
              "      <td>39.0</td>\n",
              "      <td>2020-09-10</td>\n",
              "      <td>365</td>\n",
              "      <td>STINA 5PACK boxer</td>\n",
              "      <td>286</td>\n",
              "      <td>Underwear bottom</td>\n",
              "      <td>Underwear</td>\n",
              "      <td>...</td>\n",
              "      <td>7932</td>\n",
              "      <td>Young Girl UW/NW</td>\n",
              "      <td>I</td>\n",
              "      <td>Children Sizes 134-170</td>\n",
              "      <td>4</td>\n",
              "      <td>Baby/Children</td>\n",
              "      <td>79</td>\n",
              "      <td>Girls Underwear &amp; Basics</td>\n",
              "      <td>1017</td>\n",
              "      <td>Under-, Nightwear</td>\n",
              "    </tr>\n",
              "    <tr>\n",
              "      <th>369109</th>\n",
              "      <td>33609</td>\n",
              "      <td>1</td>\n",
              "      <td>1</td>\n",
              "      <td>48.0</td>\n",
              "      <td>2020-09-04</td>\n",
              "      <td>365</td>\n",
              "      <td>STINA 5PACK boxer</td>\n",
              "      <td>286</td>\n",
              "      <td>Underwear bottom</td>\n",
              "      <td>Underwear</td>\n",
              "      <td>...</td>\n",
              "      <td>7932</td>\n",
              "      <td>Young Girl UW/NW</td>\n",
              "      <td>I</td>\n",
              "      <td>Children Sizes 134-170</td>\n",
              "      <td>4</td>\n",
              "      <td>Baby/Children</td>\n",
              "      <td>79</td>\n",
              "      <td>Girls Underwear &amp; Basics</td>\n",
              "      <td>1017</td>\n",
              "      <td>Under-, Nightwear</td>\n",
              "    </tr>\n",
              "    <tr>\n",
              "      <th>369110</th>\n",
              "      <td>38812</td>\n",
              "      <td>0</td>\n",
              "      <td>0</td>\n",
              "      <td>43.0</td>\n",
              "      <td>2020-09-16</td>\n",
              "      <td>365</td>\n",
              "      <td>STINA 5PACK boxer</td>\n",
              "      <td>286</td>\n",
              "      <td>Underwear bottom</td>\n",
              "      <td>Underwear</td>\n",
              "      <td>...</td>\n",
              "      <td>7932</td>\n",
              "      <td>Young Girl UW/NW</td>\n",
              "      <td>I</td>\n",
              "      <td>Children Sizes 134-170</td>\n",
              "      <td>4</td>\n",
              "      <td>Baby/Children</td>\n",
              "      <td>79</td>\n",
              "      <td>Girls Underwear &amp; Basics</td>\n",
              "      <td>1017</td>\n",
              "      <td>Under-, Nightwear</td>\n",
              "    </tr>\n",
              "    <tr>\n",
              "      <th>369111</th>\n",
              "      <td>38812</td>\n",
              "      <td>0</td>\n",
              "      <td>0</td>\n",
              "      <td>43.0</td>\n",
              "      <td>2020-09-16</td>\n",
              "      <td>365</td>\n",
              "      <td>STINA 5PACK boxer</td>\n",
              "      <td>286</td>\n",
              "      <td>Underwear bottom</td>\n",
              "      <td>Underwear</td>\n",
              "      <td>...</td>\n",
              "      <td>7932</td>\n",
              "      <td>Young Girl UW/NW</td>\n",
              "      <td>I</td>\n",
              "      <td>Children Sizes 134-170</td>\n",
              "      <td>4</td>\n",
              "      <td>Baby/Children</td>\n",
              "      <td>79</td>\n",
              "      <td>Girls Underwear &amp; Basics</td>\n",
              "      <td>1017</td>\n",
              "      <td>Under-, Nightwear</td>\n",
              "    </tr>\n",
              "    <tr>\n",
              "      <th>369112</th>\n",
              "      <td>40236</td>\n",
              "      <td>1</td>\n",
              "      <td>1</td>\n",
              "      <td>48.0</td>\n",
              "      <td>2020-09-04</td>\n",
              "      <td>365</td>\n",
              "      <td>STINA 5PACK boxer</td>\n",
              "      <td>286</td>\n",
              "      <td>Underwear bottom</td>\n",
              "      <td>Underwear</td>\n",
              "      <td>...</td>\n",
              "      <td>7932</td>\n",
              "      <td>Young Girl UW/NW</td>\n",
              "      <td>I</td>\n",
              "      <td>Children Sizes 134-170</td>\n",
              "      <td>4</td>\n",
              "      <td>Baby/Children</td>\n",
              "      <td>79</td>\n",
              "      <td>Girls Underwear &amp; Basics</td>\n",
              "      <td>1017</td>\n",
              "      <td>Under-, Nightwear</td>\n",
              "    </tr>\n",
              "  </tbody>\n",
              "</table>\n",
              "<p>5 rows × 26 columns</p>\n",
              "</div>"
            ],
            "text/plain": [
              "        customer_id  fashion_news  club_member   age       t_dat  article_id  \\\n",
              "369108        30652             0            0  39.0  2020-09-10         365   \n",
              "369109        33609             1            1  48.0  2020-09-04         365   \n",
              "369110        38812             0            0  43.0  2020-09-16         365   \n",
              "369111        38812             0            0  43.0  2020-09-16         365   \n",
              "369112        40236             1            1  48.0  2020-09-04         365   \n",
              "\n",
              "                prod_name  product_type product_type_name product_group_name  \\\n",
              "369108  STINA 5PACK boxer           286  Underwear bottom          Underwear   \n",
              "369109  STINA 5PACK boxer           286  Underwear bottom          Underwear   \n",
              "369110  STINA 5PACK boxer           286  Underwear bottom          Underwear   \n",
              "369111  STINA 5PACK boxer           286  Underwear bottom          Underwear   \n",
              "369112  STINA 5PACK boxer           286  Underwear bottom          Underwear   \n",
              "\n",
              "        ...  department   department_name  index              index_name  \\\n",
              "369108  ...        7932  Young Girl UW/NW      I  Children Sizes 134-170   \n",
              "369109  ...        7932  Young Girl UW/NW      I  Children Sizes 134-170   \n",
              "369110  ...        7932  Young Girl UW/NW      I  Children Sizes 134-170   \n",
              "369111  ...        7932  Young Girl UW/NW      I  Children Sizes 134-170   \n",
              "369112  ...        7932  Young Girl UW/NW      I  Children Sizes 134-170   \n",
              "\n",
              "        index_group index_group_name  section              section_name  \\\n",
              "369108            4    Baby/Children       79  Girls Underwear & Basics   \n",
              "369109            4    Baby/Children       79  Girls Underwear & Basics   \n",
              "369110            4    Baby/Children       79  Girls Underwear & Basics   \n",
              "369111            4    Baby/Children       79  Girls Underwear & Basics   \n",
              "369112            4    Baby/Children       79  Girls Underwear & Basics   \n",
              "\n",
              "       garment_group garment_group_name  \n",
              "369108          1017  Under-, Nightwear  \n",
              "369109          1017  Under-, Nightwear  \n",
              "369110          1017  Under-, Nightwear  \n",
              "369111          1017  Under-, Nightwear  \n",
              "369112          1017  Under-, Nightwear  \n",
              "\n",
              "[5 rows x 26 columns]"
            ]
          },
          "execution_count": 7,
          "metadata": {},
          "output_type": "execute_result"
        }
      ],
      "source": [
        "final_df.tail()"
      ]
    },
    {
      "cell_type": "markdown",
      "metadata": {
        "id": "1BmV8TuL53eX"
      },
      "source": [
        "##### **Some basic statistical summaries of the numerical columns in the dataframe**"
      ]
    },
    {
      "cell_type": "code",
      "execution_count": 8,
      "metadata": {
        "colab": {
          "base_uri": "https://localhost:8080/",
          "height": 300
        },
        "id": "HItnuZXF53kP",
        "outputId": "fd801dcd-f276-4cc8-a608-dcda6c880483"
      },
      "outputs": [
        {
          "data": {
            "text/html": [
              "<div>\n",
              "<style scoped>\n",
              "    .dataframe tbody tr th:only-of-type {\n",
              "        vertical-align: middle;\n",
              "    }\n",
              "\n",
              "    .dataframe tbody tr th {\n",
              "        vertical-align: top;\n",
              "    }\n",
              "\n",
              "    .dataframe thead th {\n",
              "        text-align: right;\n",
              "    }\n",
              "</style>\n",
              "<table border=\"1\" class=\"dataframe\">\n",
              "  <thead>\n",
              "    <tr style=\"text-align: right;\">\n",
              "      <th></th>\n",
              "      <th>customer_id</th>\n",
              "      <th>fashion_news</th>\n",
              "      <th>club_member</th>\n",
              "      <th>age</th>\n",
              "      <th>article_id</th>\n",
              "      <th>product_type</th>\n",
              "      <th>colour_group</th>\n",
              "      <th>perceived_colour_value</th>\n",
              "      <th>perceived_colour_master</th>\n",
              "      <th>department</th>\n",
              "      <th>index_group</th>\n",
              "      <th>section</th>\n",
              "      <th>garment_group</th>\n",
              "    </tr>\n",
              "  </thead>\n",
              "  <tbody>\n",
              "    <tr>\n",
              "      <th>count</th>\n",
              "      <td>369113.000000</td>\n",
              "      <td>369113.000000</td>\n",
              "      <td>369113.000000</td>\n",
              "      <td>369113.000000</td>\n",
              "      <td>369113.000000</td>\n",
              "      <td>369113.000000</td>\n",
              "      <td>369113.000000</td>\n",
              "      <td>369113.000000</td>\n",
              "      <td>369113.000000</td>\n",
              "      <td>369113.00000</td>\n",
              "      <td>369113.000000</td>\n",
              "      <td>369113.000000</td>\n",
              "      <td>369113.000000</td>\n",
              "    </tr>\n",
              "    <tr>\n",
              "      <th>mean</th>\n",
              "      <td>20617.658362</td>\n",
              "      <td>0.443493</td>\n",
              "      <td>0.437489</td>\n",
              "      <td>35.058562</td>\n",
              "      <td>3468.197490</td>\n",
              "      <td>254.284636</td>\n",
              "      <td>22.800996</td>\n",
              "      <td>3.017382</td>\n",
              "      <td>7.236849</td>\n",
              "      <td>2545.16181</td>\n",
              "      <td>2.785654</td>\n",
              "      <td>32.863473</td>\n",
              "      <td>1009.107011</td>\n",
              "    </tr>\n",
              "    <tr>\n",
              "      <th>std</th>\n",
              "      <td>11932.416246</td>\n",
              "      <td>0.496797</td>\n",
              "      <td>0.496078</td>\n",
              "      <td>12.621653</td>\n",
              "      <td>1947.820715</td>\n",
              "      <td>57.312755</td>\n",
              "      <td>24.714851</td>\n",
              "      <td>1.345473</td>\n",
              "      <td>4.610611</td>\n",
              "      <td>1908.60415</td>\n",
              "      <td>5.717297</td>\n",
              "      <td>22.393015</td>\n",
              "      <td>6.043188</td>\n",
              "    </tr>\n",
              "    <tr>\n",
              "      <th>min</th>\n",
              "      <td>0.000000</td>\n",
              "      <td>0.000000</td>\n",
              "      <td>0.000000</td>\n",
              "      <td>0.000000</td>\n",
              "      <td>0.000000</td>\n",
              "      <td>-1.000000</td>\n",
              "      <td>1.000000</td>\n",
              "      <td>1.000000</td>\n",
              "      <td>-1.000000</td>\n",
              "      <td>1201.00000</td>\n",
              "      <td>1.000000</td>\n",
              "      <td>2.000000</td>\n",
              "      <td>1001.000000</td>\n",
              "    </tr>\n",
              "    <tr>\n",
              "      <th>25%</th>\n",
              "      <td>10244.000000</td>\n",
              "      <td>0.000000</td>\n",
              "      <td>0.000000</td>\n",
              "      <td>25.000000</td>\n",
              "      <td>1664.000000</td>\n",
              "      <td>253.000000</td>\n",
              "      <td>9.000000</td>\n",
              "      <td>2.000000</td>\n",
              "      <td>5.000000</td>\n",
              "      <td>1610.00000</td>\n",
              "      <td>1.000000</td>\n",
              "      <td>15.000000</td>\n",
              "      <td>1003.000000</td>\n",
              "    </tr>\n",
              "    <tr>\n",
              "      <th>50%</th>\n",
              "      <td>20618.000000</td>\n",
              "      <td>0.000000</td>\n",
              "      <td>0.000000</td>\n",
              "      <td>30.000000</td>\n",
              "      <td>3635.000000</td>\n",
              "      <td>262.000000</td>\n",
              "      <td>10.000000</td>\n",
              "      <td>4.000000</td>\n",
              "      <td>5.000000</td>\n",
              "      <td>1666.00000</td>\n",
              "      <td>1.000000</td>\n",
              "      <td>19.000000</td>\n",
              "      <td>1009.000000</td>\n",
              "    </tr>\n",
              "    <tr>\n",
              "      <th>75%</th>\n",
              "      <td>30974.000000</td>\n",
              "      <td>1.000000</td>\n",
              "      <td>1.000000</td>\n",
              "      <td>46.000000</td>\n",
              "      <td>5272.000000</td>\n",
              "      <td>272.000000</td>\n",
              "      <td>19.000000</td>\n",
              "      <td>4.000000</td>\n",
              "      <td>11.000000</td>\n",
              "      <td>3090.00000</td>\n",
              "      <td>2.000000</td>\n",
              "      <td>53.000000</td>\n",
              "      <td>1016.000000</td>\n",
              "    </tr>\n",
              "    <tr>\n",
              "      <th>max</th>\n",
              "      <td>41252.000000</td>\n",
              "      <td>1.000000</td>\n",
              "      <td>1.000000</td>\n",
              "      <td>91.000000</td>\n",
              "      <td>6535.000000</td>\n",
              "      <td>532.000000</td>\n",
              "      <td>93.000000</td>\n",
              "      <td>7.000000</td>\n",
              "      <td>20.000000</td>\n",
              "      <td>9989.00000</td>\n",
              "      <td>26.000000</td>\n",
              "      <td>80.000000</td>\n",
              "      <td>1025.000000</td>\n",
              "    </tr>\n",
              "  </tbody>\n",
              "</table>\n",
              "</div>"
            ],
            "text/plain": [
              "         customer_id   fashion_news    club_member            age  \\\n",
              "count  369113.000000  369113.000000  369113.000000  369113.000000   \n",
              "mean    20617.658362       0.443493       0.437489      35.058562   \n",
              "std     11932.416246       0.496797       0.496078      12.621653   \n",
              "min         0.000000       0.000000       0.000000       0.000000   \n",
              "25%     10244.000000       0.000000       0.000000      25.000000   \n",
              "50%     20618.000000       0.000000       0.000000      30.000000   \n",
              "75%     30974.000000       1.000000       1.000000      46.000000   \n",
              "max     41252.000000       1.000000       1.000000      91.000000   \n",
              "\n",
              "          article_id   product_type   colour_group  perceived_colour_value  \\\n",
              "count  369113.000000  369113.000000  369113.000000           369113.000000   \n",
              "mean     3468.197490     254.284636      22.800996                3.017382   \n",
              "std      1947.820715      57.312755      24.714851                1.345473   \n",
              "min         0.000000      -1.000000       1.000000                1.000000   \n",
              "25%      1664.000000     253.000000       9.000000                2.000000   \n",
              "50%      3635.000000     262.000000      10.000000                4.000000   \n",
              "75%      5272.000000     272.000000      19.000000                4.000000   \n",
              "max      6535.000000     532.000000      93.000000                7.000000   \n",
              "\n",
              "       perceived_colour_master    department    index_group        section  \\\n",
              "count            369113.000000  369113.00000  369113.000000  369113.000000   \n",
              "mean                  7.236849    2545.16181       2.785654      32.863473   \n",
              "std                   4.610611    1908.60415       5.717297      22.393015   \n",
              "min                  -1.000000    1201.00000       1.000000       2.000000   \n",
              "25%                   5.000000    1610.00000       1.000000      15.000000   \n",
              "50%                   5.000000    1666.00000       1.000000      19.000000   \n",
              "75%                  11.000000    3090.00000       2.000000      53.000000   \n",
              "max                  20.000000    9989.00000      26.000000      80.000000   \n",
              "\n",
              "       garment_group  \n",
              "count  369113.000000  \n",
              "mean     1009.107011  \n",
              "std         6.043188  \n",
              "min      1001.000000  \n",
              "25%      1003.000000  \n",
              "50%      1009.000000  \n",
              "75%      1016.000000  \n",
              "max      1025.000000  "
            ]
          },
          "execution_count": 8,
          "metadata": {},
          "output_type": "execute_result"
        }
      ],
      "source": [
        "final_df.describe()"
      ]
    },
    {
      "cell_type": "code",
      "execution_count": 9,
      "metadata": {
        "colab": {
          "base_uri": "https://localhost:8080/"
        },
        "id": "nrRJwlI6PKJA",
        "outputId": "afd5e431-90eb-4eaf-b8cc-d37447419415"
      },
      "outputs": [
        {
          "data": {
            "text/plain": [
              "<bound method DataFrame.info of         customer_id  fashion_news  club_member   age       t_dat  article_id  \\\n",
              "0                 0             1            1  44.0  2020-09-05         463   \n",
              "1                70             0            0  27.0  2020-09-06         463   \n",
              "2                75             1            1  21.0  2020-09-18         463   \n",
              "3                82             0            0  18.0  2020-09-13         463   \n",
              "4               111             0            0  33.0  2020-09-06         463   \n",
              "...             ...           ...          ...   ...         ...         ...   \n",
              "369108        30652             0            0  39.0  2020-09-10         365   \n",
              "369109        33609             1            1  48.0  2020-09-04         365   \n",
              "369110        38812             0            0  43.0  2020-09-16         365   \n",
              "369111        38812             0            0  43.0  2020-09-16         365   \n",
              "369112        40236             1            1  48.0  2020-09-04         365   \n",
              "\n",
              "                           prod_name  product_type product_type_name  \\\n",
              "0       Beverly HW Loose Mom Fit Dnm           272          Trousers   \n",
              "1       Beverly HW Loose Mom Fit Dnm           272          Trousers   \n",
              "2       Beverly HW Loose Mom Fit Dnm           272          Trousers   \n",
              "3       Beverly HW Loose Mom Fit Dnm           272          Trousers   \n",
              "4       Beverly HW Loose Mom Fit Dnm           272          Trousers   \n",
              "...                              ...           ...               ...   \n",
              "369108             STINA 5PACK boxer           286  Underwear bottom   \n",
              "369109             STINA 5PACK boxer           286  Underwear bottom   \n",
              "369110             STINA 5PACK boxer           286  Underwear bottom   \n",
              "369111             STINA 5PACK boxer           286  Underwear bottom   \n",
              "369112             STINA 5PACK boxer           286  Underwear bottom   \n",
              "\n",
              "        product_group_name  ...  department   department_name  index  \\\n",
              "0       Garment Lower body  ...        1747          Trousers      D   \n",
              "1       Garment Lower body  ...        1747          Trousers      D   \n",
              "2       Garment Lower body  ...        1747          Trousers      D   \n",
              "3       Garment Lower body  ...        1747          Trousers      D   \n",
              "4       Garment Lower body  ...        1747          Trousers      D   \n",
              "...                    ...  ...         ...               ...    ...   \n",
              "369108           Underwear  ...        7932  Young Girl UW/NW      I   \n",
              "369109           Underwear  ...        7932  Young Girl UW/NW      I   \n",
              "369110           Underwear  ...        7932  Young Girl UW/NW      I   \n",
              "369111           Underwear  ...        7932  Young Girl UW/NW      I   \n",
              "369112           Underwear  ...        7932  Young Girl UW/NW      I   \n",
              "\n",
              "                    index_name  index_group index_group_name  section  \\\n",
              "0                      Divided            2          Divided       53   \n",
              "1                      Divided            2          Divided       53   \n",
              "2                      Divided            2          Divided       53   \n",
              "3                      Divided            2          Divided       53   \n",
              "4                      Divided            2          Divided       53   \n",
              "...                        ...          ...              ...      ...   \n",
              "369108  Children Sizes 134-170            4    Baby/Children       79   \n",
              "369109  Children Sizes 134-170            4    Baby/Children       79   \n",
              "369110  Children Sizes 134-170            4    Baby/Children       79   \n",
              "369111  Children Sizes 134-170            4    Baby/Children       79   \n",
              "369112  Children Sizes 134-170            4    Baby/Children       79   \n",
              "\n",
              "                    section_name garment_group garment_group_name  \n",
              "0             Divided Collection          1009           Trousers  \n",
              "1             Divided Collection          1009           Trousers  \n",
              "2             Divided Collection          1009           Trousers  \n",
              "3             Divided Collection          1009           Trousers  \n",
              "4             Divided Collection          1009           Trousers  \n",
              "...                          ...           ...                ...  \n",
              "369108  Girls Underwear & Basics          1017  Under-, Nightwear  \n",
              "369109  Girls Underwear & Basics          1017  Under-, Nightwear  \n",
              "369110  Girls Underwear & Basics          1017  Under-, Nightwear  \n",
              "369111  Girls Underwear & Basics          1017  Under-, Nightwear  \n",
              "369112  Girls Underwear & Basics          1017  Under-, Nightwear  \n",
              "\n",
              "[369113 rows x 26 columns]>"
            ]
          },
          "execution_count": 9,
          "metadata": {},
          "output_type": "execute_result"
        }
      ],
      "source": [
        "final_df.info"
      ]
    },
    {
      "cell_type": "code",
      "execution_count": 10,
      "metadata": {
        "colab": {
          "base_uri": "https://localhost:8080/"
        },
        "id": "_4Gbc2KoPP5M",
        "outputId": "bac06851-d1d6-40c9-df3a-f3df2719bb67"
      },
      "outputs": [
        {
          "data": {
            "text/plain": [
              "customer_id                       int64\n",
              "fashion_news                      int64\n",
              "club_member                       int64\n",
              "age                             float64\n",
              "t_dat                            object\n",
              "article_id                        int64\n",
              "prod_name                        object\n",
              "product_type                      int64\n",
              "product_type_name                object\n",
              "product_group_name               object\n",
              "colour_group                      int64\n",
              "colour_group_name                object\n",
              "perceived_colour_value            int64\n",
              "perceived_colour_value_name      object\n",
              "perceived_colour_master           int64\n",
              "perceived_colour_master_name     object\n",
              "department                        int64\n",
              "department_name                  object\n",
              "index                            object\n",
              "index_name                       object\n",
              "index_group                       int64\n",
              "index_group_name                 object\n",
              "section                           int64\n",
              "section_name                     object\n",
              "garment_group                     int64\n",
              "garment_group_name               object\n",
              "dtype: object"
            ]
          },
          "execution_count": 10,
          "metadata": {},
          "output_type": "execute_result"
        }
      ],
      "source": [
        "final_df.dtypes"
      ]
    },
    {
      "cell_type": "markdown",
      "metadata": {
        "id": "cmmfRsO553qt"
      },
      "source": [
        "##### **The distribution of numerical columns**"
      ]
    },
    {
      "cell_type": "code",
      "execution_count": 11,
      "metadata": {
        "colab": {
          "base_uri": "https://localhost:8080/",
          "height": 295
        },
        "id": "KHOyVfVw53xG",
        "outputId": "c257ff55-d4be-427e-dc04-25d6be416551"
      },
      "outputs": [
        {
          "data": {
            "image/png": "[encoded data removed]",
            "text/plain": [
              "<Figure size 640x480 with 1 Axes>"
            ]
          },
          "metadata": {},
          "output_type": "display_data"
        }
      ],
      "source": [
        "# Plot the histogram for the 'age' column\n",
        "plt.hist(final_df['age'])\n",
        "\n",
        "plt.xlabel('Age')\n",
        "plt.ylabel('Frequency')\n",
        "plt.title('Histogram of customer ages')\n",
        "\n",
        "plt.show()"
      ]
    },
    {
      "cell_type": "code",
      "execution_count": 12,
      "metadata": {
        "colab": {
          "base_uri": "https://localhost:8080/",
          "height": 295
        },
        "id": "CGhs1A_BAvmk",
        "outputId": "efe41283-6c43-4408-ffa5-d38fdd46cd79"
      },
      "outputs": [
        {
          "data": {
            "image/png": "[encoded data removed]",
            "text/plain": [
              "<Figure size 640x480 with 1 Axes>"
            ]
          },
          "metadata": {},
          "output_type": "display_data"
        }
      ],
      "source": [
        "# Plot the histogram for the 'club_member' column\n",
        "plt.hist(final_df['club_member'])\n",
        "\n",
        "plt.xlabel('Club Member')\n",
        "plt.ylabel('Frequency')\n",
        "plt.title('Histogram of Club Members')\n",
        "\n",
        "plt.show()"
      ]
    },
    {
      "cell_type": "code",
      "execution_count": 13,
      "metadata": {
        "colab": {
          "base_uri": "https://localhost:8080/",
          "height": 295
        },
        "id": "z2bHl1bzAw_z",
        "outputId": "496b35f1-a529-4730-c022-f033e4be9053"
      },
      "outputs": [
        {
          "data": {
            "image/png": "[encoded data removed]",
            "text/plain": [
              "<Figure size 640x480 with 1 Axes>"
            ]
          },
          "metadata": {},
          "output_type": "display_data"
        }
      ],
      "source": [
        "# Plot the histogram for the 'product_type' column\n",
        "plt.hist(final_df['product_type'])\n",
        "\n",
        "plt.xlabel('Product')\n",
        "plt.ylabel('Frequency')\n",
        "plt.title('Histogram of Products')\n",
        "\n",
        "plt.show()"
      ]
    },
    {
      "cell_type": "code",
      "execution_count": 14,
      "metadata": {
        "colab": {
          "base_uri": "https://localhost:8080/",
          "height": 295
        },
        "id": "FoKihfSwBcQn",
        "outputId": "9099cd2c-1643-41f0-eee9-d5a4d70cec69"
      },
      "outputs": [
        {
          "data": {
            "image/png": "[encoded data removed]",
            "text/plain": [
              "<Figure size 640x480 with 1 Axes>"
            ]
          },
          "metadata": {},
          "output_type": "display_data"
        }
      ],
      "source": [
        "# Scatter plot of 'age' vs 'club_memeber'\n",
        "plt.scatter(final_df['club_member'], final_df['age'])\n",
        "\n",
        "plt.xlabel('Club Member')\n",
        "plt.ylabel('Age')\n",
        "plt.title('Scatter plot of Club Member vs Age')\n",
        "\n",
        "plt.show()"
      ]
    },
    {
      "cell_type": "code",
      "execution_count": 15,
      "metadata": {
        "colab": {
          "base_uri": "https://localhost:8080/",
          "height": 295
        },
        "id": "z3va3n-uB4zg",
        "outputId": "34274f53-ddf2-4086-9eab-01170747f459"
      },
      "outputs": [
        {
          "data": {
            "image/png": "[encoded data removed]",
            "text/plain": [
              "<Figure size 640x480 with 1 Axes>"
            ]
          },
          "metadata": {},
          "output_type": "display_data"
        }
      ],
      "source": [
        "# Box plot of 'Age' vs 'Product Name'\n",
        "sns.boxplot(x = 'age', y = 'prod_name', data = final_df)\n",
        "\n",
        "plt.xlabel('Age')\n",
        "plt.ylabel('Product')\n",
        "plt.title('Box plot of Age vs Product')\n",
        "\n",
        "plt.show()"
      ]
    },
    {
      "attachments": {},
      "cell_type": "markdown",
      "metadata": {},
      "source": [
        "###### **Most Popular Products**"
      ]
    },
    {
      "cell_type": "code",
      "execution_count": 16,
      "metadata": {},
      "outputs": [
        {
          "name": "stdout",
          "output_type": "stream",
          "text": [
            "Top 3 popular products:\n",
            "1. \"1419\" with 1045 purchases\n",
            "2. \"168\" with 896 purchases\n",
            "3. \"5831\" with 889 purchases\n"
          ]
        },
        {
          "data": {
            "image/png": "[encoded data removed]",
            "text/plain": [
              "<Figure size 640x480 with 1 Axes>"
            ]
          },
          "metadata": {},
          "output_type": "display_data"
        }
      ],
      "source": [
        "# Group the data by article_id and count the number of purchases for each product\n",
        "product_counts = transactions_df.groupby('article_id').size().reset_index(name = 'count')\n",
        "\n",
        "# Sort the data by the count column in descending order\n",
        "product_counts = product_counts.sort_values('count', ascending = False)\n",
        "\n",
        "# Set the number of top products to print out\n",
        "n = 3\n",
        "\n",
        "# Print the top n popular products\n",
        "print(f'Top {n} popular products:')\n",
        "\n",
        "# Iterate over the first n rows of the product_counts DataFrame\n",
        "for i in range(n):\n",
        "    # Get the product data for the current row\n",
        "    product = product_counts.iloc[i]\n",
        "    \n",
        "    # Print the product id and the number of purchases\n",
        "    print(f'{i+1}. \"{product[\"article_id\"]}\" with {product[\"count\"]} purchases')\n",
        "\n",
        "# Plot the data using a bar chart\n",
        "plt.bar(product_counts['article_id'], product_counts['count'])\n",
        "\n",
        "# Add axis labels and a title to the plot\n",
        "plt.xlabel('Product ID')\n",
        "plt.ylabel('Number of purchases')\n",
        "plt.title('Most popular products')\n",
        "\n",
        "# Display the plot\n",
        "plt.show()"
      ]
    },
    {
      "attachments": {},
      "cell_type": "markdown",
      "metadata": {},
      "source": [
        "###### **Customers with their number of purchases**"
      ]
    },
    {
      "cell_type": "code",
      "execution_count": 17,
      "metadata": {},
      "outputs": [
        {
          "data": {
            "image/png": "[encoded data removed]",
            "text/plain": [
              "<Figure size 640x480 with 1 Axes>"
            ]
          },
          "metadata": {},
          "output_type": "display_data"
        }
      ],
      "source": [
        "# Group the data by customer_id and count the number of purchases for each customer\n",
        "customer_counts = transactions_df.groupby('customer_id').size().reset_index(name = 'count')\n",
        "\n",
        "# Sort the data by the count column in descending order\n",
        "customer_counts = customer_counts.sort_values('count', ascending = False)\n",
        "\n",
        "# Plot the data using a bar chart\n",
        "plt.bar(customer_counts['customer_id'], customer_counts['count'])\n",
        "\n",
        "# Add axis labels and a title to the plot\n",
        "plt.xlabel('Customer')\n",
        "plt.ylabel('Number of purchases')\n",
        "plt.title('Customers by number of purchases')\n",
        "\n",
        "# Display the plot\n",
        "plt.show()"
      ]
    },
    {
      "cell_type": "markdown",
      "metadata": {
        "id": "h4D3N3Kf534B"
      },
      "source": [
        "#### **Data Cleaning and Preporcessing**"
      ]
    },
    {
      "cell_type": "markdown",
      "metadata": {
        "id": "nEXAalfyDv1Z"
      },
      "source": [
        "##### **Imputing Missing Values**"
      ]
    },
    {
      "cell_type": "markdown",
      "metadata": {
        "id": "DHr5jMhoGWhc"
      },
      "source": [
        "`Completing missing values using descriptive statistics, most frequent, along each column using SimpleImputer from Sklearn.`"
      ]
    },
    {
      "attachments": {},
      "cell_type": "markdown",
      "metadata": {},
      "source": [
        "This code defines a function called impute_missing_values that takes in a dataframe and an imputation method and returns a new dataframe with missing values imputed using the specified method.\n",
        "\n",
        "The function first checks the value of the method parameter and assigns a corresponding SimpleImputer object to the imputer variable. If the method parameter is not one of the three supported values ('mean', 'median', or 'mode'), the function raises a ValueError.\n",
        "\n",
        "Next, the function applies the fit_transform method of the imputer object on the input dataframe, and creates a new dataframe with the imputed values using the pd.DataFrame constructor. The resulting dataframe is returned as the output of the function.\n",
        "\n",
        "Finally, the code calls the impute_missing_values function on the final_df dataframe with the mode imputation method, and assigns the returned dataframe to the df variable."
      ]
    },
    {
      "cell_type": "code",
      "execution_count": 18,
      "metadata": {
        "id": "nRg_W81x53-Y"
      },
      "outputs": [],
      "source": [
        "from sklearn.impute import SimpleImputer\n",
        "\n",
        "def impute_missing_values(df, method):\n",
        "    \"\"\"Impute missing values in the dataframe using the specified method.\n",
        "    \n",
        "    Parameters:\n",
        "        df (pandas.DataFrame): The dataframe with missing values.\n",
        "        method (str): The imputation method to use. Can be 'mean', 'median', or 'mode'.\n",
        "    \n",
        "    Returns:\n",
        "        pandas.DataFrame: The dataframe with missing values imputed.\n",
        "    \"\"\"\n",
        "\n",
        "    if method == 'mean':\n",
        "        imputer = SimpleImputer(strategy = 'mean')\n",
        "    elif method == 'median':\n",
        "        imputer = SimpleImputer(strategy = 'median')\n",
        "    elif method == 'mode':\n",
        "        imputer = SimpleImputer(strategy = 'most_frequent')\n",
        "    else:\n",
        "        raise ValueError(\"Invalid imputation method: {}\".format(method))\n",
        "    \n",
        "    df_imputed = pd.DataFrame(imputer.fit_transform(df), columns = df.columns)\n",
        "    \n",
        "    return df_imputed\n",
        "\n",
        "df = impute_missing_values(final_df, 'mode')"
      ]
    },
    {
      "attachments": {},
      "cell_type": "markdown",
      "metadata": {
        "id": "sSidfD1GERZ6"
      },
      "source": [
        "### **Building the System**"
      ]
    },
    {
      "cell_type": "markdown",
      "metadata": {
        "id": "HrxD7PfTEThl"
      },
      "source": [
        "##### **Content-Based Filtering Recommendation System**"
      ]
    },
    {
      "attachments": {},
      "cell_type": "markdown",
      "metadata": {},
      "source": [
        "This code is used to recommend articles to a customer based on their past purchases. To do this, the code follows these steps:\n",
        "\n",
        "Merges the transactions_df and articles_df dataframes on the article_id column. This creates a single dataframe containing information about the transactions and the corresponding articles.\n",
        "\n",
        "Groups the merged dataframe by customer_id and aggregates the prod_name column with a list. This creates a new dataframe that lists the products purchased by each customer.\n",
        "\n",
        "Merges the resulting dataframe with the customers_df dataframe on the customer_id column. This creates a single dataframe containing information about the customers, their purchases, and the corresponding articles.\n",
        "\n",
        "Creates a DictVectorizer object and fits it on a list of dictionaries, where each dictionary represents a purchased article. The DictVectorizer is then used to transform this list of dictionaries into a matrix X.\n",
        "\n",
        "Creates a NearestNeighbors object and fits it on the matrix X.\n",
        "\n",
        "Defines the recommend_articles function to recommend articles based on the nearest neighbors of the purchased articles. Inside the function, the code gets the row of the customer from the dataframe, gets the list of purchased articles, and creates a list of dictionaries where each dictionary represents a purchased article. This list of dictionaries is then transformed into a matrix X_customer using the DictVectorizer object. The NearestNeighbors object is used to find the indices of the k nearest neighbors of X_customer, and the recommended articles are obtained from the dataframe using these indices. The recommended articles are then concatenated into a single list, duplicates are removed, and the final list is sliced to get the desired number of recommendations.\n",
        "\n",
        "Finally, the code tests the recommend_articles function by calling it with a customer id and the desired number of recommendations, and prints the recommended articles for the customer."
      ]
    },
    {
      "attachments": {},
      "cell_type": "markdown",
      "metadata": {},
      "source": [
        "The code first merges the transactions_df and articles_df dataframes on the article_id column and then groups the merged dataframe by customer_id and aggregates the prod_name column with a list. It then merges this resulting dataframe with the customers_df dataframe on the customer_id column."
      ]
    },
    {
      "cell_type": "code",
      "execution_count": 19,
      "metadata": {
        "id": "DdpXO2e8EaCD"
      },
      "outputs": [],
      "source": [
        "from sklearn.feature_extraction import DictVectorizer\n",
        "from sklearn.neighbors import NearestNeighbors\n",
        "\n",
        "\n",
        "# merge the transactions and articles dataframes on the article_id column\n",
        "df_transactions_articles = pd.merge(transactions_df, articles_df, on = 'article_id')\n",
        "\n",
        "# group the merged dataframe by customer_id and aggregate the prod_name column with a list\n",
        "df_customer_purchases = df_transactions_articles.groupby('customer_id')['prod_name'].apply(list).reset_index()\n",
        "\n",
        "# merge the customer_purchases dataframe with the customers dataframe on the customer_id column\n",
        "df = pd.merge(df_customer_purchases, customers_df, on = 'customer_id')"
      ]
    },
    {
      "attachments": {},
      "cell_type": "markdown",
      "metadata": {},
      "source": [
        "Under, the code creates a DictVectorizer object and fits it on a list of dictionaries, where each dictionary represents a purchased article. The DictVectorizer is then used to transform this list of dictionaries into a matrix X.\n",
        "\n",
        "The code then creates a NearestNeighbors object, fits it on the matrix X, and defines the recommend_articles function to recommend articles based on the nearest neighbors of the purchased articles."
      ]
    },
    {
      "cell_type": "code",
      "execution_count": 20,
      "metadata": {},
      "outputs": [
        {
          "data": {
            "text/html": [
              "<style>#sk-container-id-1 {color: black;background-color: white;}#sk-container-id-1 pre{padding: 0;}#sk-container-id-1 div.sk-toggleable {background-color: white;}#sk-container-id-1 label.sk-toggleable__label {cursor: pointer;display: block;width: 100%;margin-bottom: 0;padding: 0.3em;box-sizing: border-box;text-align: center;}#sk-container-id-1 label.sk-toggleable__label-arrow:before {content: \"▸\";float: left;margin-right: 0.25em;color: #696969;}#sk-container-id-1 label.sk-toggleable__label-arrow:hover:before {color: black;}#sk-container-id-1 div.sk-estimator:hover label.sk-toggleable__label-arrow:before {color: black;}#sk-container-id-1 div.sk-toggleable__content {max-height: 0;max-width: 0;overflow: hidden;text-align: left;background-color: #f0f8ff;}#sk-container-id-1 div.sk-toggleable__content pre {margin: 0.2em;color: black;border-radius: 0.25em;background-color: #f0f8ff;}#sk-container-id-1 input.sk-toggleable__control:checked~div.sk-toggleable__content {max-height: 200px;max-width: 100%;overflow: auto;}#sk-container-id-1 input.sk-toggleable__control:checked~label.sk-toggleable__label-arrow:before {content: \"▾\";}#sk-container-id-1 div.sk-estimator input.sk-toggleable__control:checked~label.sk-toggleable__label {background-color: #d4ebff;}#sk-container-id-1 div.sk-label input.sk-toggleable__control:checked~label.sk-toggleable__label {background-color: #d4ebff;}#sk-container-id-1 input.sk-hidden--visually {border: 0;clip: rect(1px 1px 1px 1px);clip: rect(1px, 1px, 1px, 1px);height: 1px;margin: -1px;overflow: hidden;padding: 0;position: absolute;width: 1px;}#sk-container-id-1 div.sk-estimator {font-family: monospace;background-color: #f0f8ff;border: 1px dotted black;border-radius: 0.25em;box-sizing: border-box;margin-bottom: 0.5em;}#sk-container-id-1 div.sk-estimator:hover {background-color: #d4ebff;}#sk-container-id-1 div.sk-parallel-item::after {content: \"\";width: 100%;border-bottom: 1px solid gray;flex-grow: 1;}#sk-container-id-1 div.sk-label:hover label.sk-toggleable__label {background-color: #d4ebff;}#sk-container-id-1 div.sk-serial::before {content: \"\";position: absolute;border-left: 1px solid gray;box-sizing: border-box;top: 0;bottom: 0;left: 50%;z-index: 0;}#sk-container-id-1 div.sk-serial {display: flex;flex-direction: column;align-items: center;background-color: white;padding-right: 0.2em;padding-left: 0.2em;position: relative;}#sk-container-id-1 div.sk-item {position: relative;z-index: 1;}#sk-container-id-1 div.sk-parallel {display: flex;align-items: stretch;justify-content: center;background-color: white;position: relative;}#sk-container-id-1 div.sk-item::before, #sk-container-id-1 div.sk-parallel-item::before {content: \"\";position: absolute;border-left: 1px solid gray;box-sizing: border-box;top: 0;bottom: 0;left: 50%;z-index: -1;}#sk-container-id-1 div.sk-parallel-item {display: flex;flex-direction: column;z-index: 1;position: relative;background-color: white;}#sk-container-id-1 div.sk-parallel-item:first-child::after {align-self: flex-end;width: 50%;}#sk-container-id-1 div.sk-parallel-item:last-child::after {align-self: flex-start;width: 50%;}#sk-container-id-1 div.sk-parallel-item:only-child::after {width: 0;}#sk-container-id-1 div.sk-dashed-wrapped {border: 1px dashed gray;margin: 0 0.4em 0.5em 0.4em;box-sizing: border-box;padding-bottom: 0.4em;background-color: white;}#sk-container-id-1 div.sk-label label {font-family: monospace;font-weight: bold;display: inline-block;line-height: 1.2em;}#sk-container-id-1 div.sk-label-container {text-align: center;}#sk-container-id-1 div.sk-container {/* jupyter's `normalize.less` sets `[hidden] { display: none; }` but bootstrap.min.css set `[hidden] { display: none !important; }` so we also need the `!important` here to be able to override the default hidden behavior on the sphinx rendered scikit-learn.org. See: https://github.com/scikit-learn/scikit-learn/issues/21755 */display: inline-block !important;position: relative;}#sk-container-id-1 div.sk-text-repr-fallback {display: none;}</style><div id=\"sk-container-id-1\" class=\"sk-top-container\"><div class=\"sk-text-repr-fallback\"><pre>NearestNeighbors(n_neighbors=11)</pre><b>In a Jupyter environment, please rerun this cell to show the HTML representation or trust the notebook. <br />On GitHub, the HTML representation is unable to render, please try loading this page with nbviewer.org.</b></div><div class=\"sk-container\" hidden><div class=\"sk-item\"><div class=\"sk-estimator sk-toggleable\"><input class=\"sk-toggleable__control sk-hidden--visually\" id=\"sk-estimator-id-1\" type=\"checkbox\" checked><label for=\"sk-estimator-id-1\" class=\"sk-toggleable__label sk-toggleable__label-arrow\">NearestNeighbors</label><div class=\"sk-toggleable__content\"><pre>NearestNeighbors(n_neighbors=11)</pre></div></div></div></div></div>"
            ],
            "text/plain": [
              "NearestNeighbors(n_neighbors=11)"
            ]
          },
          "execution_count": 20,
          "metadata": {},
          "output_type": "execute_result"
        }
      ],
      "source": [
        "# create a DictVectorizer object\n",
        "vectorizer = DictVectorizer()\n",
        "\n",
        "# create a list of dictionaries where each dictionary represents a purchased article\n",
        "purchased_articles = [{'prod_name': prod_name} for prod_name in df['prod_name']]\n",
        "\n",
        "# fit the vectorizer on the list of dictionaries\n",
        "vectorizer.fit(purchased_articles)\n",
        "\n",
        "# transform the list of dictionaries into a matrix\n",
        "X = vectorizer.transform(purchased_articles)\n",
        "\n",
        "# create a NearestNeighbors object\n",
        "nn = NearestNeighbors(n_neighbors = 11)\n",
        "\n",
        "# fit the NearestNeighbors object on the matrix of token counts\n",
        "nn.fit(X)"
      ]
    },
    {
      "attachments": {},
      "cell_type": "markdown",
      "metadata": {},
      "source": [
        "Inside the recommend_articles function, the code gets the row of the customer from the dataframe, gets the list of purchased articles, and creates a list of dictionaries where each dictionary represents a purchased article. This list of dictionaries is then transformed into a matrix X_customer using the DictVectorizer object. The NearestNeighbors object is used to find the indices of the k nearest neighbors of X_customer, and the recommended articles are obtained from the dataframe using these indices. The recommended articles are then concatenated into a single list, duplicates are removed, and the final list is sliced to get the desired number of recommendations."
      ]
    },
    {
      "cell_type": "code",
      "execution_count": 21,
      "metadata": {},
      "outputs": [
        {
          "name": "stdout",
          "output_type": "stream",
          "text": [
            "Recommended articles for customer 1: ['Burmilla petite blazer', 'Pink HW barrel', 'HM+ Tina dress', 'Aubergine', 'Velvet scrunchie']\n"
          ]
        }
      ],
      "source": [
        "# define a function to recommend articles\n",
        "def recommend_articles(customer_id, n_recommendations):\n",
        "  # get the row of the customer from the dataframe\n",
        "  customer_row = df[df['customer_id'] == customer_id]\n",
        "  \n",
        "  # get the list of purchased articles\n",
        "  purchased_articles = customer_row['prod_name'].values[0]\n",
        "  \n",
        "  # create a list of dictionaries where each dictionary represents a purchased article\n",
        "  purchased_articles_dict = [{'prod_name': prod_name} for prod_name in purchased_articles]\n",
        "  \n",
        "  # transform the list of dictionaries into a matrix\n",
        "  X_customer = vectorizer.transform(purchased_articles_dict)\n",
        "  \n",
        "  # get the indices of the k nearest neighbors\n",
        "  distances, indices = nn.kneighbors(X_customer)\n",
        "  \n",
        "  # get the list of recommended articles\n",
        "  recommended_articles = df.iloc[indices[0][1:]]['prod_name'].tolist()\n",
        "  \n",
        "  # concatenate the lists in the recommended_articles column into a single list\n",
        "  recommended_articles = [item for sublist in recommended_articles for item in sublist]\n",
        "  \n",
        "  # remove any duplicates in the recommendations\n",
        "  recommended_articles = list(set(recommended_articles))\n",
        "  \n",
        "  # slice the list to get the number of recommendations specified\n",
        "  recommended_articles = recommended_articles[:n_recommendations]\n",
        "  \n",
        "  return recommended_articles\n",
        "\n",
        "# test the recommend_articles function\n",
        "customer_id = 1\n",
        "n_recommendations = 5\n",
        "recommended_articles_content = recommend_articles(customer_id, n_recommendations)\n",
        "\n",
        "print(f'Recommended articles for customer {customer_id}: {recommended_articles_content}')"
      ]
    },
    {
      "attachments": {},
      "cell_type": "markdown",
      "metadata": {},
      "source": [
        "##### **Hyperparameter Tuning**"
      ]
    },
    {
      "attachments": {},
      "cell_type": "markdown",
      "metadata": {},
      "source": [
        "This code defines a set of search parameters for a RandomizedSearchCV object and uses it to search for the best parameters for a given model.\n",
        "\n",
        "The search parameters are defined as a dictionary called param_grid with two keys: 'n_neighbors' and 'metric'. The value of 'n_neighbors' is a list of integers ranging from 0 to 30, and the value of 'metric' is a list of three string values representing different distance metrics.\n",
        "\n",
        "Next, the code creates a RandomizedSearchCV object with the model (nn), the search parameters (param_grid), the number of folds for cross-validation (cv), the random seed (random_state), and the scoring metric (scoring). The RandomizedSearchCV object is then fit on the matrix of token counts (X).\n",
        "\n",
        "Finally, the code prints the best parameters found by the RandomizedSearchCV object using the best_params_ attribute. These best parameters can then be used to optimize the performance of the model."
      ]
    },
    {
      "cell_type": "code",
      "execution_count": 22,
      "metadata": {},
      "outputs": [
        {
          "name": "stdout",
          "output_type": "stream",
          "text": [
            "best parameters are: {'n_neighbors': 9, 'metric': 'cosine'}\n"
          ]
        }
      ],
      "source": [
        "from sklearn.model_selection import RandomizedSearchCV\n",
        "\n",
        "# defining the search parameters\n",
        "param_grid = {'n_neighbors': [x for x in range(31)],\n",
        "              'metric': ['minkowski', 'cosine', 'euclidean']\n",
        "            }\n",
        "\n",
        "# create a RandomizedSearchCV object\n",
        "random_search = RandomizedSearchCV(estimator = nn, param_distributions = param_grid, cv = 5, random_state = 42, scoring = 'neg_mean_squared_error')\n",
        "\n",
        "# fit the RandomizedSearchCV object on the matrix of token counts\n",
        "random_search.fit(X)\n",
        "\n",
        "# print the best parameters\n",
        "print(f'best parameters are: {random_search.best_params_}')"
      ]
    },
    {
      "attachments": {},
      "cell_type": "markdown",
      "metadata": {},
      "source": [
        "This code uses the best parameters found by a RandomizedSearchCV object to create a new NearestNeighbors object and fit it on the matrix of token counts (X).\n",
        "\n",
        "The code first gets the best parameters from the RandomizedSearchCV object using the best_params_ attribute. It then creates a new NearestNeighbors object using these best parameters, using the ** operator to unpack the dictionary of best parameters as keyword arguments.\n",
        "\n",
        "Next, the code fits the new NearestNeighbors object on the matrix of token counts using the fit method.\n",
        "\n",
        "Finally, the code calls the recommend_articles function with the new NearestNeighbors object and the customer id and number of recommendations as arguments, and prints the recommended articles for the customer."
      ]
    },
    {
      "cell_type": "code",
      "execution_count": 23,
      "metadata": {},
      "outputs": [
        {
          "name": "stdout",
          "output_type": "stream",
          "text": [
            "Recommended articles for customer 1: ['Burmilla petite blazer', 'Pink HW barrel', 'HM+ Tina dress', 'Aubergine', 'Velvet scrunchie']\n"
          ]
        }
      ],
      "source": [
        "# get the best parameters from the random search\n",
        "best_params = random_search.best_params_\n",
        "\n",
        "# create a NearestNeighbors object with the best parameters\n",
        "nn_best = NearestNeighbors(**best_params)\n",
        "\n",
        "# fit the NearestNeighbors object on the matrix of token counts\n",
        "nn_best.fit(X)\n",
        "\n",
        "# use the recommend_articles function with the best NearestNeighbors object\n",
        "recommended_articles_content = recommend_articles(customer_id, n_recommendations)\n",
        "\n",
        "print(f'Recommended articles for customer {customer_id}: {recommended_articles_content}')"
      ]
    },
    {
      "attachments": {},
      "cell_type": "markdown",
      "metadata": {},
      "source": [
        "##### **Evaluating the Performance**"
      ]
    },
    {
      "attachments": {},
      "cell_type": "markdown",
      "metadata": {},
      "source": [
        "This code defines a function called content_based_performance that takes in a customer id and a list of recommendations and returns a measure of the similarity between the purchased articles of the customer and the recommended articles.\n",
        "\n",
        "The function first retrieves the purchased articles for the given customer id from the dataframe and transforms the list of purchased articles into a matrix using the DictVectorizer object. It then transforms the list of recommendations into a matrix in the same way.\n",
        "\n",
        "Next, the function computes the cosine similarity between the two matrices using the cosine_similarity function from sklearn.metrics.pairwise. This function returns a matrix of similarity values, and the function selects the first row (corresponding to the purchased articles) and computes the mean of the similarity values as the overall similarity between the purchased articles and the recommendations.\n",
        "\n",
        "Finally, the code calls the content_based_performance function with the customer id and the list of recommended articles, and prints the similarity value."
      ]
    },
    {
      "cell_type": "code",
      "execution_count": 24,
      "metadata": {},
      "outputs": [
        {
          "name": "stdout",
          "output_type": "stream",
          "text": [
            "Similarity for customer 1: 0.0\n"
          ]
        }
      ],
      "source": [
        "from sklearn.metrics.pairwise import cosine_similarity\n",
        "\n",
        "\n",
        "def content_based_performance(customer_id, recommendations):\n",
        "  # retrieve the purchased articles for the given customer_id from the dataframe\n",
        "  customer_row = df[df['customer_id'] == customer_id]\n",
        "  purchased_articles = customer_row['prod_name'].values[0]\n",
        "  \n",
        "  # transform the list of purchased articles into a matrix\n",
        "  X_purchased = vectorizer.transform([{'prod_name': prod_name} for prod_name in purchased_articles])\n",
        "  \n",
        "  # transform the list of recommendations into a matrix\n",
        "  X_recommendations = vectorizer.transform([{'prod_name': recommendation} for recommendation in recommendations])\n",
        "  \n",
        "  # compute the cosine similarity between the purchased articles and the recommendations\n",
        "  similarity = cosine_similarity(X_purchased, X_recommendations)\n",
        "  \n",
        "  # compute the accuracy as the average of the cosine similarity values\n",
        "  accuracy = np.mean(similarity[0])\n",
        "  \n",
        "  return accuracy\n",
        "\n",
        "\n",
        "Similarity = content_based_performance(customer_id, recommended_articles_content)\n",
        "print(f'Similarity for customer {customer_id}: {Similarity}')"
      ]
    },
    {
      "attachments": {},
      "cell_type": "markdown",
      "metadata": {},
      "source": [
        "##### **Collaborative-Based Filtering Recommendation System**"
      ]
    },
    {
      "attachments": {},
      "cell_type": "markdown",
      "metadata": {},
      "source": [
        "This code merges the transactions_df and articles_df dataframes on the article_id column to get a dataframe with information about the articles purchased by each customer.\n",
        "\n",
        "It then uses the pivot_table method of the merged dataframe to create a pivot table with customers as rows and articles as columns. The values in the pivot table are the number of times each article was purchased by each customer, as counted using the count aggregation function. Missing values (i.e., articles that were not purchased by a given customer) are filled with 0 using the fill_value parameter.\n",
        "\n",
        "The resulting pivot table can be used to represent the purchase history of each customer as a vector of counts, with each element of the vector corresponding to the number of times a given article was purchased. This representation can be used as input to a recommendation system that uses collaborative filtering to make recommendations based on the purchase history of similar customers."
      ]
    },
    {
      "cell_type": "code",
      "execution_count": 25,
      "metadata": {},
      "outputs": [],
      "source": [
        "# Merge the transactions and articles data to get the articles that each customer has purchased\n",
        "df_data = pd.merge(transactions_df, articles_df, on = \"article_id\")\n",
        "\n",
        "# Pivot the merged data to get a matrix with customers as rows and articles as columns\n",
        "pivot_df = df_data.pivot_table(index = \"customer_id\", columns = \"prod_name\", values = \"article_id\", aggfunc = \"count\", fill_value = 0)"
      ]
    },
    {
      "attachments": {},
      "cell_type": "markdown",
      "metadata": {},
      "source": [
        "This code creates a NearestNeighbors model using the NearestNeighbors class from the sklearn library. The model is initialized with n_neighbors equal to 5, which means that it will find the 5 nearest neighbors of a given customer when making recommendations. The algorithm parameter specifies the algorithm to use for finding the nearest neighbors, in this case the \"ball tree\" algorithm.\n",
        "\n",
        "The code then fits the model on the pivot table of customer purchase history using the fit method. This means that the model is trained on the purchase history data, and can be used to find the nearest neighbors of a given customer based on their purchase history vector.\n",
        "\n",
        "The NearestNeighbors model can be used to make recommendations to a given customer by finding the nearest neighbors of the customer in the purchase history data, and recommending the articles that are most popular among these neighbors. This is an example of a recommendation system that uses collaborative filtering, as it makes recommendations based on the preferences of similar users rather than the content of the items being recommended."
      ]
    },
    {
      "cell_type": "code",
      "execution_count": 26,
      "metadata": {},
      "outputs": [
        {
          "data": {
            "text/html": [
              "<style>#sk-container-id-2 {color: black;background-color: white;}#sk-container-id-2 pre{padding: 0;}#sk-container-id-2 div.sk-toggleable {background-color: white;}#sk-container-id-2 label.sk-toggleable__label {cursor: pointer;display: block;width: 100%;margin-bottom: 0;padding: 0.3em;box-sizing: border-box;text-align: center;}#sk-container-id-2 label.sk-toggleable__label-arrow:before {content: \"▸\";float: left;margin-right: 0.25em;color: #696969;}#sk-container-id-2 label.sk-toggleable__label-arrow:hover:before {color: black;}#sk-container-id-2 div.sk-estimator:hover label.sk-toggleable__label-arrow:before {color: black;}#sk-container-id-2 div.sk-toggleable__content {max-height: 0;max-width: 0;overflow: hidden;text-align: left;background-color: #f0f8ff;}#sk-container-id-2 div.sk-toggleable__content pre {margin: 0.2em;color: black;border-radius: 0.25em;background-color: #f0f8ff;}#sk-container-id-2 input.sk-toggleable__control:checked~div.sk-toggleable__content {max-height: 200px;max-width: 100%;overflow: auto;}#sk-container-id-2 input.sk-toggleable__control:checked~label.sk-toggleable__label-arrow:before {content: \"▾\";}#sk-container-id-2 div.sk-estimator input.sk-toggleable__control:checked~label.sk-toggleable__label {background-color: #d4ebff;}#sk-container-id-2 div.sk-label input.sk-toggleable__control:checked~label.sk-toggleable__label {background-color: #d4ebff;}#sk-container-id-2 input.sk-hidden--visually {border: 0;clip: rect(1px 1px 1px 1px);clip: rect(1px, 1px, 1px, 1px);height: 1px;margin: -1px;overflow: hidden;padding: 0;position: absolute;width: 1px;}#sk-container-id-2 div.sk-estimator {font-family: monospace;background-color: #f0f8ff;border: 1px dotted black;border-radius: 0.25em;box-sizing: border-box;margin-bottom: 0.5em;}#sk-container-id-2 div.sk-estimator:hover {background-color: #d4ebff;}#sk-container-id-2 div.sk-parallel-item::after {content: \"\";width: 100%;border-bottom: 1px solid gray;flex-grow: 1;}#sk-container-id-2 div.sk-label:hover label.sk-toggleable__label {background-color: #d4ebff;}#sk-container-id-2 div.sk-serial::before {content: \"\";position: absolute;border-left: 1px solid gray;box-sizing: border-box;top: 0;bottom: 0;left: 50%;z-index: 0;}#sk-container-id-2 div.sk-serial {display: flex;flex-direction: column;align-items: center;background-color: white;padding-right: 0.2em;padding-left: 0.2em;position: relative;}#sk-container-id-2 div.sk-item {position: relative;z-index: 1;}#sk-container-id-2 div.sk-parallel {display: flex;align-items: stretch;justify-content: center;background-color: white;position: relative;}#sk-container-id-2 div.sk-item::before, #sk-container-id-2 div.sk-parallel-item::before {content: \"\";position: absolute;border-left: 1px solid gray;box-sizing: border-box;top: 0;bottom: 0;left: 50%;z-index: -1;}#sk-container-id-2 div.sk-parallel-item {display: flex;flex-direction: column;z-index: 1;position: relative;background-color: white;}#sk-container-id-2 div.sk-parallel-item:first-child::after {align-self: flex-end;width: 50%;}#sk-container-id-2 div.sk-parallel-item:last-child::after {align-self: flex-start;width: 50%;}#sk-container-id-2 div.sk-parallel-item:only-child::after {width: 0;}#sk-container-id-2 div.sk-dashed-wrapped {border: 1px dashed gray;margin: 0 0.4em 0.5em 0.4em;box-sizing: border-box;padding-bottom: 0.4em;background-color: white;}#sk-container-id-2 div.sk-label label {font-family: monospace;font-weight: bold;display: inline-block;line-height: 1.2em;}#sk-container-id-2 div.sk-label-container {text-align: center;}#sk-container-id-2 div.sk-container {/* jupyter's `normalize.less` sets `[hidden] { display: none; }` but bootstrap.min.css set `[hidden] { display: none !important; }` so we also need the `!important` here to be able to override the default hidden behavior on the sphinx rendered scikit-learn.org. See: https://github.com/scikit-learn/scikit-learn/issues/21755 */display: inline-block !important;position: relative;}#sk-container-id-2 div.sk-text-repr-fallback {display: none;}</style><div id=\"sk-container-id-2\" class=\"sk-top-container\"><div class=\"sk-text-repr-fallback\"><pre>NearestNeighbors(algorithm=&#x27;ball_tree&#x27;)</pre><b>In a Jupyter environment, please rerun this cell to show the HTML representation or trust the notebook. <br />On GitHub, the HTML representation is unable to render, please try loading this page with nbviewer.org.</b></div><div class=\"sk-container\" hidden><div class=\"sk-item\"><div class=\"sk-estimator sk-toggleable\"><input class=\"sk-toggleable__control sk-hidden--visually\" id=\"sk-estimator-id-2\" type=\"checkbox\" checked><label for=\"sk-estimator-id-2\" class=\"sk-toggleable__label sk-toggleable__label-arrow\">NearestNeighbors</label><div class=\"sk-toggleable__content\"><pre>NearestNeighbors(algorithm=&#x27;ball_tree&#x27;)</pre></div></div></div></div></div>"
            ],
            "text/plain": [
              "NearestNeighbors(algorithm='ball_tree')"
            ]
          },
          "execution_count": 26,
          "metadata": {},
          "output_type": "execute_result"
        }
      ],
      "source": [
        "# Create the NearestNeighbors model\n",
        "model = NearestNeighbors(n_neighbors = 5, algorithm = \"ball_tree\")\n",
        "\n",
        "# Fit the model on the pivoted data\n",
        "model.fit(pivot_df)"
      ]
    },
    {
      "attachments": {},
      "cell_type": "markdown",
      "metadata": {},
      "source": [
        "This code defines a function called recommend_articles_collaborative that takes in a customer id and a number of recommendations to return, and returns a list of recommended articles for the customer using collaborative filtering.\n",
        "\n",
        "The function first retrieves the customer's row from the pivot table of customer purchase history, and uses the kneighbors method of the NearestNeighbors model to find the indices of the nearest neighbors of the customer in the pivot table. It then retrieves the rows of the nearest neighbors from the pivot table using these indices.\n",
        "\n",
        "Next, the function identifies the articles that the neighbors have purchased but the customer has not by comparing the customer's row to the rows of the nearest neighbors. It then returns the top num_recommendations articles from this list of articles as the recommendations for the customer.\n",
        "\n",
        "Finally, the code calls the recommend_articles_collaborative function with the customer id and the number of recommendations to return, and prints the recommended articles."
      ]
    },
    {
      "cell_type": "code",
      "execution_count": 27,
      "metadata": {},
      "outputs": [
        {
          "name": "stdout",
          "output_type": "stream",
          "text": [
            "Recommended articles for customer with ID 1: ['BUD', 'Becka hoodie', 'Cardiff Sweater', 'DILL DRESS', 'DONNA DENIM SKIRT']\n"
          ]
        }
      ],
      "source": [
        "def recommend_articles_collaborative(customer_id, num_recommendations):\n",
        "  # Get the customer's row from the pivot table\n",
        "  customer_row = pivot_df.loc[customer_id]\n",
        "  \n",
        "  # Get the indices of the nearest neighbors and their distances\n",
        "  _, neighbor_indices = model.kneighbors(customer_row.values.reshape(1, -1))\n",
        "  \n",
        "  # Get the nearest neighbors\n",
        "  neighbors = pivot_df.iloc[neighbor_indices[0]]\n",
        "  \n",
        "  # Get the articles that the neighbors have purchased but the customer has not\n",
        "  recommended_articles = neighbors.columns[(neighbors != customer_row).any()]\n",
        "  \n",
        "  # Return the top `num_recommendations` articles\n",
        "  return list(recommended_articles[:num_recommendations])\n",
        "\n",
        "\n",
        "recommended_articles_collaborative = recommend_articles_collaborative(customer_id, n_recommendations)\n",
        "\n",
        "print(f'Recommended articles for customer with ID {customer_id}: {recommended_articles_collaborative}')"
      ]
    },
    {
      "attachments": {},
      "cell_type": "markdown",
      "metadata": {},
      "source": [
        "#### **Hyperparameter Tuning using RandomSearch**"
      ]
    },
    {
      "attachments": {},
      "cell_type": "markdown",
      "metadata": {},
      "source": [
        "This code defines a function called evaluate_recommendations that takes in a customer id and a list of recommended articles, and returns the mean similarity between the recommended articles and the customer's past purchases.\n",
        "\n",
        "The function first retrieves the customer's row from the pivot table of customer purchase history, and selects the indices of the articles that the customer has purchased. It then selects the rows for the recommended articles from the pivot table using the list of recommended articles.\n",
        "\n",
        "Next, the function calculates the cosine similarity between the recommended articles and the customer's past purchases using the cosine_similarity function from scikit-learn. It then calculates the mean of the similarity values and returns it as the mean similarity."
      ]
    },
    {
      "cell_type": "code",
      "execution_count": 28,
      "metadata": {},
      "outputs": [],
      "source": [
        "from sklearn.metrics.pairwise import cosine_similarity\n",
        "\n",
        "def evaluate_recommendations(customer_id, recommended_articles):\n",
        "  # Get the customer's row from the pivot table\n",
        "  customer_row = pivot_df.loc[customer_id]\n",
        "  \n",
        "  # Get the indices of the articles that the customer has purchased\n",
        "  purchased_article_indices = customer_row[customer_row > 0].index\n",
        "  purchased_article_indices = purchased_article_indices[:n_recommendations]\n",
        "  \n",
        "  # Get the rows for the recommended articles\n",
        "  recommended_article_rows = pivot_df[recommended_articles]\n",
        "  \n",
        "  # Calculate the cosine similarity between the recommended articles and the customer's past purchases\n",
        "  similarity = cosine_similarity(recommended_article_rows, customer_row[purchased_article_indices].values.reshape(1, -1)).flatten()\n",
        "  \n",
        "  # Calculate the mean similarity\n",
        "  mean_similarity = similarity.mean()\n",
        "  \n",
        "  return mean_similarity"
      ]
    },
    {
      "attachments": {},
      "cell_type": "markdown",
      "metadata": {},
      "source": [
        "This code defines a custom scoring function called scoring_fn that takes in an estimator, a matrix of data (X), and a target vector (y). The function uses the recommend_articles function to generate a list of recommended articles for the customer with ID y[0], and then passes this list of recommended articles to the evaluate_recommendations function to calculate the mean similarity between the recommended articles and the customer's past purchases. The function then returns the negative of this mean similarity as the score.\n",
        "\n",
        "This custom scoring function can be used in a model evaluation or optimization process to optimize the mean similarity between the recommended articles and the customer's past purchases, by minimizing the negative of the mean similarity."
      ]
    },
    {
      "cell_type": "code",
      "execution_count": 29,
      "metadata": {},
      "outputs": [],
      "source": [
        "# Define a custom scoring function that uses the evaluate_recommendations function\n",
        "def scoring_fn(estimator, X, y):\n",
        "  recommended_articles = recommend_articles(y[0], 10)\n",
        "  return -evaluate_recommendations(y[0], recommended_articles)"
      ]
    },
    {
      "attachments": {},
      "cell_type": "markdown",
      "metadata": {},
      "source": [
        "This code defines a parameter grid for a NearestNeighbors model, which consists of a list of values for the n_neighbors parameter and a list of values for the algorithm parameter. It then creates a RandomizedSearchCV object, which is a type of object that can be used to perform a randomized search for the best combination of parameters for a given model. The RandomizedSearchCV object is initialized with the NearestNeighbors model and the parameter grid, and it is also given a scoring function, which is a custom function that takes an estimator (the NearestNeighbors model), a matrix of features (X), and a vector of labels (y) as input and returns a score indicating how well the model performs on the given data. The RandomizedSearchCV object is then fit on the pivoted data, which consists of a matrix of customers as rows and articles as columns, and on the indices of the rows, which are the customer IDs. Finally, the best combination of parameters is printed. The RandomizedSearchCV object will use the scoring function to evaluate the performance of the NearestNeighbors model on the pivoted data for different combinations of the n_neighbors and algorithm parameters, and it will select the combination that gives the best performance, as measured by the scoring function."
      ]
    },
    {
      "cell_type": "code",
      "execution_count": 30,
      "metadata": {},
      "outputs": [
        {
          "name": "stdout",
          "output_type": "stream",
          "text": [
            "{'n_neighbors': 7, 'algorithm': 'brute'}\n"
          ]
        }
      ],
      "source": [
        "# Define the parameter distributions for the NearestNeighbors model\n",
        "param_distributions = {\n",
        "    \"n_neighbors\": [3, 5, 7, 9],\n",
        "    \"algorithm\": [\"ball_tree\", \"kd_tree\", \"brute\"],\n",
        "}\n",
        "\n",
        "# Create the RandomSearchCV object\n",
        "random_search = RandomizedSearchCV(estimator = model, param_distributions = param_distributions, n_jobs = 1, cv = 5, random_state = 42, scoring = 'neg_mean_squared_error')\n",
        "\n",
        "# Set the scoring function as the scoring parameter of the RandomSearchCV object\n",
        "random_search.scoring = scoring_fn\n",
        "\n",
        "# Fit the RandomSearchCV object on the pivoted data\n",
        "random_search.fit(pivot_df, pivot_df.index)\n",
        "\n",
        "# Print the best combination of parameters\n",
        "print(random_search.best_params_)"
      ]
    },
    {
      "attachments": {},
      "cell_type": "markdown",
      "metadata": {},
      "source": [
        "Finally, the best parameters are extracted from the RandomizedSearchCV object and used to create a NearestNeighbors object, which is fit on the pivoted data and used to generate recommendations for the given customer. The recommended articles are then printed"
      ]
    },
    {
      "cell_type": "code",
      "execution_count": 31,
      "metadata": {},
      "outputs": [
        {
          "name": "stdout",
          "output_type": "stream",
          "text": [
            "Recommended articles for customer 1: ['BUD', 'Becka hoodie', 'Cardiff Sweater', 'DILL DRESS', 'DONNA DENIM SKIRT']\n"
          ]
        }
      ],
      "source": [
        "# get the best parameters from the random search\n",
        "best_params_collaborative = random_search.best_params_\n",
        "\n",
        "# create a NearestNeighbors object with the best parameters\n",
        "nn_best_parameters = NearestNeighbors(**best_params_collaborative)\n",
        "\n",
        "# fit the NearestNeighbors object on the matrix of token counts\n",
        "nn_best_parameters.fit(pivot_df)\n",
        "\n",
        "# use the recommend_articles function with the best NearestNeighbors object\n",
        "recommended_articles_collaborative = recommend_articles_collaborative(customer_id, n_recommendations)\n",
        "\n",
        "print(f'Recommended articles for customer {customer_id}: {recommended_articles_collaborative}')"
      ]
    },
    {
      "attachments": {},
      "cell_type": "markdown",
      "metadata": {},
      "source": [
        "##### **Evaluating the Performance**"
      ]
    },
    {
      "cell_type": "code",
      "execution_count": 32,
      "metadata": {},
      "outputs": [
        {
          "name": "stdout",
          "output_type": "stream",
          "text": [
            "Similarity is: 0.015\n"
          ]
        }
      ],
      "source": [
        "print(f'Similarity is: {round(evaluate_recommendations(1, recommended_articles_collaborative), 3)}')"
      ]
    },
    {
      "attachments": {},
      "cell_type": "markdown",
      "metadata": {},
      "source": [
        "##### **Final Thoughts**"
      ]
    },
    {
      "attachments": {},
      "cell_type": "markdown",
      "metadata": {},
      "source": [
        "In this code, we built and evaluated two recommendation systems: a content-based recommendation system and a collaborative recommendation system.\n",
        "\n",
        "For the content-based recommendation system, we used the customer's purchase history and the characteristics of the products being recommended to predict the customer's preferences. We found that if the customer had a limited purchase history or their preferences were very different from the products being recommended, the recommendation system may return a low or 0 similarity score. This suggests that a content-based recommendation system may not be effective in these cases, as it relies on the information available in the customer's purchase history and the characteristics of the products being recommended.\n",
        "\n",
        "On the other hand, the collaborative recommendation system used the co-occurrence of ratings or interactions between customers or items to predict the customer's preferences. We found that the similarity score obtained with this system could be considered normal, depending on the specific data and algorithm being used. Some algorithms, such as cosine similarity, return values between 0 and 1, where 0 indicates no similarity and 1 indicates complete similarity. Other algorithms, such as Pearson correlation coefficient, return values between -1 and 1, where -1 indicates negative correlation and 1 indicates positive correlation. A similarity score of 0.015, for example, could be considered low but still meaningful, as it may represent a small overlap in the ratings or interactions of two customers.\n",
        "\n",
        "Overall, our results suggest that the choice of recommendation system and the specific data and algorithm being used can have a significant impact on the accuracy and effectiveness of the recommendations. It may be necessary to experiment with different approaches and evaluation metrics to determine the most appropriate recommendation system for the given task, but for what we have done, the collaborative system seems to be more reliable."
      ]
    }
  ],
  "metadata": {
    "colab": {
      "provenance": []
    },
    "kernelspec": {
      "display_name": "Python 3.9.13 64-bit",
      "language": "python",
      "name": "python3"
    },
    "language_info": {
      "codemirror_mode": {
        "name": "ipython",
        "version": 3
      },
      "file_extension": ".py",
      "mimetype": "text/x-python",
      "name": "python",
      "nbconvert_exporter": "python",
      "pygments_lexer": "ipython3",
      "version": "3.9.13"
    },
    "vscode": {
      "interpreter": {
        "hash": "aee8b7b246df8f9039afb4144a1f6fd8d2ca17a180786b69acc140d282b71a49"
      }
    }
  },
  "nbformat": 4,
  "nbformat_minor": 0
}
